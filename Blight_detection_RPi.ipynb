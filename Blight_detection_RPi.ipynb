{
  "nbformat": 4,
  "nbformat_minor": 0,
  "metadata": {
    "colab": {
      "name": "Blight_detection_RPi.ipynb",
      "provenance": []
    },
    "kernelspec": {
      "name": "python3",
      "display_name": "Python 3"
    },
    "language_info": {
      "name": "python"
    }
  },
  "cells": [
    {
      "cell_type": "code",
      "metadata": {
        "colab": {
          "base_uri": "https://localhost:8080/"
        },
        "id": "pq6QsfQZdpgf",
        "outputId": "1b1294b9-5886-438e-cf87-a1eeed6d980b"
      },
      "source": [
        "from keras.models import load_model\n",
        "import cv2\n",
        "import numpy as np\n",
        "model_n = load_model('/content/Blight_Classification.hdf5')\n",
        "img=cv2.imread('/content/drive/MyDrive/leaf_blight_test3.jpg')\n",
        "_scale = lambda dim, s: int(dim * s / 100)\n",
        "im: np.ndarray = cv2.imread('/content/drive/MyDrive/leaf_blight_test3.jpg')\n",
        "width, height, channels = im.shape\n",
        "scale_1=(100*256)/width\n",
        "scale_2=(100*256)/height\n",
        "print(\"{},{},{}\".format(width,height,channels))\n",
        "new_width: int = _scale(width, scale_1)\n",
        "new_height: int = _scale(height, scale_2)\n",
        "new_dim: tuple = (new_width, new_height)\n",
        "image=cv2.resize(src=im, dsize=new_dim, interpolation=cv2.INTER_LINEAR)\n",
        "image = image.reshape((256,256,3))  # RESHAPING\n",
        "X = np.zeros((1,256,256, 3), dtype=np.float32)\n",
        "X[0]=image\n",
        "model_n.predict(X)"
      ],
      "execution_count": 5,
      "outputs": [
        {
          "output_type": "stream",
          "name": "stdout",
          "text": [
            "2464,3280,3\n"
          ]
        },
        {
          "output_type": "execute_result",
          "data": {
            "text/plain": [
              "array([[1.05585714e-04, 1.10994573e-04, 2.95009106e-01, 4.75789158e-04,\n",
              "        1.15807843e-03, 3.29121016e-02, 7.25478958e-06, 2.00314797e-04,\n",
              "        1.09792036e-05, 4.25848356e-07, 3.12230009e-06, 1.14561871e-07,\n",
              "        3.67831774e-07, 6.46821652e-10, 6.45851173e-07, 2.13596377e-06,\n",
              "        1.53306827e-01, 5.08771539e-01, 5.19303569e-07, 2.05213131e-04,\n",
              "        2.96278468e-09, 6.44644800e-08, 4.26609731e-05, 2.16535536e-05,\n",
              "        2.12953819e-06, 3.28797832e-05, 1.17038308e-05, 6.52407184e-10,\n",
              "        1.64341927e-05, 9.67714528e-04, 5.41126262e-03, 7.00928853e-04,\n",
              "        2.11850584e-05, 2.50316953e-06, 1.86442394e-05, 4.22797428e-04,\n",
              "        3.82836333e-05, 8.08963705e-06]], dtype=float32)"
            ]
          },
          "metadata": {},
          "execution_count": 5
        }
      ]
    },
    {
      "cell_type": "code",
      "metadata": {
        "colab": {
          "base_uri": "https://localhost:8080/"
        },
        "id": "uwZVpsYggozg",
        "outputId": "a537abc1-ddbd-480e-f06c-a40e19762a41"
      },
      "source": [
        "np.where(model_n.predict(X)== np.amax(model_n.predict(X)))"
      ],
      "execution_count": 6,
      "outputs": [
        {
          "output_type": "execute_result",
          "data": {
            "text/plain": [
              "(array([0]), array([17]))"
            ]
          },
          "metadata": {},
          "execution_count": 6
        }
      ]
    },
    {
      "cell_type": "code",
      "metadata": {
        "id": "TcOzYItkguZw"
      },
      "source": [
        ""
      ],
      "execution_count": null,
      "outputs": []
    }
  ]
}